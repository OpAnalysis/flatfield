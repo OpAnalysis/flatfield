{
 "cells": [
  {
   "cell_type": "code",
   "execution_count": 1,
   "id": "485e4db6-fd5f-4d60-9ae4-bc20ca2dd702",
   "metadata": {},
   "outputs": [],
   "source": [
    "import PIL.Image\n",
    "import PIL.ExifTags\n",
    "import os\n"
   ]
  },
  {
   "cell_type": "code",
   "execution_count": 3,
   "id": "088217e8-f015-46f6-b5ce-6ec137332a69",
   "metadata": {},
   "outputs": [
    {
     "data": {
      "text/plain": [
       "['20240611_062604.jpg',\n",
       " 'EXIF.ipynb',\n",
       " 'IMG_20240611_062424.jpg',\n",
       " 'IMG_20240611_062428.jpg',\n",
       " 'IMG_3168.jpg',\n",
       " 'IMG_3199.jpg']"
      ]
     },
     "execution_count": 3,
     "metadata": {},
     "output_type": "execute_result"
    }
   ],
   "source": [
    "files = [f for f in os.listdir('.') if os.path.isfile(f)]\n",
    "files"
   ]
  },
  {
   "cell_type": "code",
   "execution_count": 10,
   "id": "30c4d961-6b90-4512-8c1d-53a832f3e1a8",
   "metadata": {},
   "outputs": [
    {
     "name": "stdout",
     "output_type": "stream",
     "text": [
      "20240611_062604.jpg\n",
      "\n",
      "IMG_20240611_062424.jpg\n",
      "{1: 'N', 2: (56.0, 16.0, 51.00312), 3: 'W', 4: (117.0, 3.0, 53.844839), 5: 0, 6: 559.0}\n",
      "\n",
      "IMG_20240611_062428.jpg\n",
      "{1: 'N', 2: (56.0, 16.0, 57.665279), 3: 'W', 4: (117.0, 4.0, 20.383319), 5: 0, 6: 557.0}\n",
      "\n",
      "IMG_3168.jpg\n",
      "{1: 'N', 2: (45.0, 20.0, 59.11), 3: 'W', 4: (76.0, 3.0, 21.41), 7: (20.0, 25.0, 15.0), 29: '2024:06:10', 31: 1.0}\n",
      "\n",
      "IMG_3199.jpg\n",
      "{1: 'N', 2: (45.0, 24.0, 22.06), 3: 'W', 4: (75.0, 41.0, 18.97), 7: (19.0, 45.0, 48.0), 29: '2024:06:10', 31: 1.0}\n",
      "\n"
     ]
    }
   ],
   "source": [
    "for f in files:\n",
    "   if f.split('.')[1]=='jpg':\n",
    "       print(f)\n",
    "       img0 = PIL.Image.open(f)\n",
    "       exif0 = {\n",
    "                PIL.ExifTags.TAGS[k]: v\n",
    "                for k, v in img0._getexif().items()\n",
    "                if k in PIL.ExifTags.TAGS\n",
    "            }\n",
    "       if 'GPSInfo' in exif0.keys(): print(exif0['GPSInfo'])\n",
    "       print()"
   ]
  },
  {
   "cell_type": "code",
   "execution_count": null,
   "id": "6db36d41-b7da-43ed-8afd-8d05965c3311",
   "metadata": {},
   "outputs": [],
   "source": []
  },
  {
   "cell_type": "code",
   "execution_count": null,
   "id": "d3bbc5e4-1645-421b-9997-39bb794fed35",
   "metadata": {},
   "outputs": [],
   "source": []
  }
 ],
 "metadata": {
  "kernelspec": {
   "display_name": "Python 3 (ipykernel)",
   "language": "python",
   "name": "python3"
  },
  "language_info": {
   "codemirror_mode": {
    "name": "ipython",
    "version": 3
   },
   "file_extension": ".py",
   "mimetype": "text/x-python",
   "name": "python",
   "nbconvert_exporter": "python",
   "pygments_lexer": "ipython3",
   "version": "3.9.18"
  }
 },
 "nbformat": 4,
 "nbformat_minor": 5
}
